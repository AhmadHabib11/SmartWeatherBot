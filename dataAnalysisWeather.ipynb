{
 "cells": [
  {
   "cell_type": "code",
   "execution_count": 26,
   "id": "f7994479-745f-4451-aa10-a051f161b5e6",
   "metadata": {},
   "outputs": [],
   "source": [
    "import pandas as pd\n",
    "\n",
    "# Read the CSV file\n",
    "df = pd.read_csv(\"weatherHistory.csv\")\n",
    "\n",
    "# Convert date column to datetime\n",
    "df['Formatted Date'] = pd.to_datetime(df['Formatted Date'], utc=True)\n",
    "\n",
    "# Extract useful columns\n",
    "df['Month'] = df['Formatted Date'].dt.month\n",
    "df['Day'] = df['Formatted Date'].dt.day\n",
    "df['Year'] = df['Formatted Date'].dt.year\n",
    "\n",
    "# Convert humidity to percentage\n",
    "df['Humidity'] = df['Humidity'] * 100\n",
    "\n",
    "# Month name to number\n",
    "month_map = {\n",
    "    'january': 1, 'february': 2, 'march': 3, 'april': 4,\n",
    "    'may': 5, 'june': 6, 'july': 7, 'august': 8,\n",
    "    'september': 9, 'october': 10, 'november': 11, 'december': 12\n",
    "}\n",
    "\n",
    "# Short form mapping\n",
    "month_aliases = {\n",
    "    'jan': 'january', 'feb': 'february', 'mar': 'march', 'apr': 'april',\n",
    "    'jun': 'june', 'jul': 'july', 'aug': 'august', 'sep': 'september',\n",
    "    'oct': 'october', 'nov': 'november', 'dec': 'december'\n",
    "}\n",
    "word_aliases = {\n",
    "    'temp': 'temperature', 'humid': 'humidity', 'rains': 'rainy',\n",
    "    'coldest': 'cold', 'hottest': 'hot'\n",
    "}\n"
   ]
  },
  {
   "cell_type": "code",
   "execution_count": 39,
   "id": "7e0076b0-8835-4e1a-8efc-97e55ca31d87",
   "metadata": {},
   "outputs": [],
   "source": [
    "# ✅ Month name to number mapping\n",
    "month_to_number = {\n",
    "    'january': 1, 'february': 2, 'march': 3, 'april': 4,\n",
    "    'may': 5, 'june': 6, 'july': 7, 'august': 8,\n",
    "    'september': 9, 'october': 10, 'november': 11, 'december': 12\n",
    "}\n"
   ]
  },
  {
   "cell_type": "code",
   "execution_count": 32,
   "id": "72780f1e-f22e-4a7c-8403-567c097b3f31",
   "metadata": {},
   "outputs": [],
   "source": [
    "def get_avg_temp(month):\n",
    "    month_num = month_map.get(month)\n",
    "    if month_num is None: return \"❌ Invalid month.\"\n",
    "    avg = df[df['Month'] == month_num]['Temperature (C)'].mean()\n",
    "    return f\"🌡️ The average temperature in {month.title()} is {avg:.2f} °C\"\n",
    "\n",
    "def get_avg_humidity(month):\n",
    "    month_num = month_map.get(month)\n",
    "    if month_num is None: return \"❌ Invalid month.\"\n",
    "    avg = df[df['Month'] == month_num]['Humidity'].mean()\n",
    "    return f\"💧 The average humidity in {month.title()} is {avg:.2f}%\"\n",
    "\n",
    "def get_rainy_days(month):\n",
    "    month_num = month_map.get(month)\n",
    "    if month_num is None: return \"❌ Invalid month.\"\n",
    "    rainy = df[(df['Month'] == month_num) & (df['Precip Type'] == 'rain')]\n",
    "    rainy_days = rainy['Formatted Date'].dt.date.nunique()\n",
    "    return f\"🌧️ Number of rainy days in {month.title()}: {rainy_days} days\"\n",
    "\n",
    "def get_temp_extreme(user_input):\n",
    "    avg_temps = df.groupby('Month')['Temperature (C)'].mean()\n",
    "    if 'hot' in user_input:\n",
    "        hottest_month = avg_temps.idxmax()\n",
    "        for name, num in month_map.items():\n",
    "            if num == hottest_month:\n",
    "                return f\"🔥 The hottest month is {name.title()} with avg temp {avg_temps.max():.2f} °C\"\n",
    "    elif 'cold' in user_input:\n",
    "        coldest_month = avg_temps.idxmin()\n",
    "        for name, num in month_map.items():\n",
    "            if num == coldest_month:\n",
    "                return f\"❄️ The coldest month is {name.title()} with avg temp {avg_temps.min():.2f} °C\"\n",
    "    return \"❓ Please ask for the hottest or coldest month.\"\n",
    "\n",
    "def get_avg_wind(month):\n",
    "    month_num = month_map.get(month)\n",
    "    if month_num is None: return \"❌ Invalid month.\"\n",
    "    avg = df[df['Month'] == month_num]['Wind Speed (km/h)'].mean()\n",
    "    return f\"🌬️ Avg wind speed in {month.title()}: {avg:.2f} km/h\"\n",
    "\n",
    "def get_avg_visibility(month):\n",
    "    month_num = month_map.get(month)\n",
    "    if month_num is None: return \"❌ Invalid month.\"\n",
    "    avg = df[df['Month'] == month_num]['Visibility (km)'].mean()\n",
    "    return f\"🔎 Avg visibility in {month.title()}: {avg:.2f} km\"\n",
    "\n",
    "def get_avg_pressure(month):\n",
    "    month_num = month_map.get(month)\n",
    "    if month_num is None: return \"❌ Invalid month.\"\n",
    "    avg = df[df['Month'] == month_num]['Pressure (millibars)'].mean()\n",
    "    return f\"📉 Avg pressure in {month.title()}: {avg:.2f} millibar (mb)\"\n",
    "\n",
    "def get_monthly_summary(month):\n",
    "    month_num = month_to_number.get(month.lower())\n",
    "    if not month_num:\n",
    "        return \"❌ Invalid month.\"\n",
    "\n",
    "    month_data = df[df['Month'] == month_num]\n",
    "\n",
    "    if month_data.empty:\n",
    "        return \"⚠️ No data available for this month.\"\n",
    "\n",
    "    avg_temp = month_data['Temperature (C)'].mean()\n",
    "    avg_humidity = month_data['Humidity'].mean()\n",
    "    rainy_days = month_data[month_data['Precip Type'] == 'rain']['Day'].nunique()\n",
    "    snowy_days = month_data[month_data['Precip Type'] == 'snow']['Day'].nunique()\n",
    "    avg_pressure = month_data['Pressure (millibars)'].mean()\n",
    "    avg_visibility = month_data['Visibility (km)'].mean()\n",
    "    avg_wind_speed = month_data['Wind Speed (km/h)'].mean()\n",
    "\n",
    "    return f\"\"\"\n",
    "📅 Weather Summary for {month.title()}:\n",
    "🌡️ Average Temperature: {avg_temp:.2f} °C\n",
    "💧 Average Humidity: {avg_humidity:.2f}\n",
    "🌧️ Rainy Days: {rainy_days}\n",
    "❄️ Snowy Days: {snowy_days}\n",
    "📉 Avg Pressure: {avg_pressure:.2f} millibars\n",
    "🌫️ Avg Visibility: {avg_visibility:.2f} km\n",
    "🌬️ Avg Wind Speed: {avg_wind_speed:.2f} km/h\n",
    "\"\"\"\n",
    "\n"
   ]
  },
  {
   "cell_type": "code",
   "execution_count": 36,
   "id": "32aa9d83-f6e8-4c91-b5e5-4d985d645895",
   "metadata": {},
   "outputs": [],
   "source": [
    "def SmartWeatherBot():\n",
    "    print(\"🤖 Hello! I’m SmartWeatherBot. Ask me about:\")\n",
    "    print(\"- average temperature (e.g. 'temperature in June')\")\n",
    "    print(\"- average humidity (e.g. 'humidity in August')\")\n",
    "    print(\"- number of rainy or snowy days (e.g. 'rainy days in April')\")\n",
    "    print(\"- hottest or coldest month (e.g. 'what's the coldest month')\")\n",
    "    print(\"- full summary (e.g. 'weather in November')\")\n",
    "    print(\"Type 'exit' to quit.\\n\")\n",
    "    \n",
    "    while True:\n",
    "        user_input = input(\"🧑 You: \").lower()\n",
    "        \n",
    "        if user_input == 'exit':\n",
    "            print(\"👋 Goodbye!\")\n",
    "            break\n",
    "\n",
    "        elif \"temperature\" in user_input:\n",
    "            for month in month_to_number.keys():\n",
    "                if month in user_input:\n",
    "                    print(get_avg_temp(month))\n",
    "                    break\n",
    "            else:\n",
    "                print(\"⚠️ Please include a valid month.\")\n",
    "        \n",
    "        elif \"humidity\" in user_input:\n",
    "            for month in month_to_number.keys():\n",
    "                if month in user_input:\n",
    "                    print(get_avg_humidity(month))\n",
    "                    break\n",
    "            else:\n",
    "                print(\"⚠️ Please include a valid month.\")\n",
    "        \n",
    "        elif \"rain\" in user_input:\n",
    "            for month in month_to_number.keys():\n",
    "                if month in user_input:\n",
    "                    print(get_rainy_days(month))\n",
    "                    break\n",
    "            else:\n",
    "                print(\"⚠️ Please include a valid month.\")\n",
    "\n",
    "        elif \"cold\" in user_input or \"hot\" in user_input:\n",
    "            print(get_temp_extreme(user_input))\n",
    "\n",
    "        elif \"weather in\" in user_input or \"summary\" in user_input:\n",
    "            for month in month_to_number.keys():\n",
    "                if month in user_input:\n",
    "                    print(get_monthly_summary(month))\n",
    "                    break\n",
    "            else:\n",
    "                print(\"⚠️ Please include a valid month.\")\n",
    "\n",
    "        else:\n",
    "            print(\"❓ I didn’t understand. Try asking about temperature, humidity, rain, snow, or summary.\")\n"
   ]
  },
  {
   "cell_type": "code",
   "execution_count": 40,
   "id": "e0fa17d4-0035-4816-956b-07ab07a83178",
   "metadata": {
    "scrolled": true
   },
   "outputs": [
    {
     "name": "stdout",
     "output_type": "stream",
     "text": [
      "🤖 Hello! I’m SmartWeatherBot. Ask me about:\n",
      "- average temperature (e.g. 'temperature in June')\n",
      "- average humidity (e.g. 'humidity in August')\n",
      "- number of rainy or snowy days (e.g. 'rainy days in April')\n",
      "- hottest or coldest month (e.g. 'what's the coldest month')\n",
      "- full summary (e.g. 'weather in November')\n",
      "Type 'exit' to quit.\n",
      "\n"
     ]
    },
    {
     "name": "stdin",
     "output_type": "stream",
     "text": [
      "🧑 You:  weather in june\n"
     ]
    },
    {
     "name": "stdout",
     "output_type": "stream",
     "text": [
      "\n",
      "📅 Weather Summary for June:\n",
      "🌡️ Average Temperature: 20.73 °C\n",
      "💧 Average Humidity: 68.64\n",
      "🌧️ Rainy Days: 30\n",
      "❄️ Snowy Days: 0\n",
      "📉 Avg Pressure: 1002.02 millibars\n",
      "🌫️ Avg Visibility: 11.99 km\n",
      "🌬️ Avg Wind Speed: 9.63 km/h\n",
      "\n"
     ]
    },
    {
     "name": "stdin",
     "output_type": "stream",
     "text": [
      "🧑 You:  summary juky\n"
     ]
    },
    {
     "name": "stdout",
     "output_type": "stream",
     "text": [
      "⚠️ Please include a valid month.\n"
     ]
    },
    {
     "name": "stdin",
     "output_type": "stream",
     "text": [
      "🧑 You:  summary july\n"
     ]
    },
    {
     "name": "stdout",
     "output_type": "stream",
     "text": [
      "\n",
      "📅 Weather Summary for July:\n",
      "🌡️ Average Temperature: 22.97 °C\n",
      "💧 Average Humidity: 63.96\n",
      "🌧️ Rainy Days: 31\n",
      "❄️ Snowy Days: 0\n",
      "📉 Avg Pressure: 1008.56 millibars\n",
      "🌫️ Avg Visibility: 12.19 km\n",
      "🌬️ Avg Wind Speed: 9.64 km/h\n",
      "\n"
     ]
    },
    {
     "name": "stdin",
     "output_type": "stream",
     "text": [
      "🧑 You:  rainy days in june\n"
     ]
    },
    {
     "name": "stdout",
     "output_type": "stream",
     "text": [
      "🌧️ Number of rainy days in June: 330 days\n"
     ]
    },
    {
     "name": "stdin",
     "output_type": "stream",
     "text": [
      "🧑 You:  exit\n"
     ]
    },
    {
     "name": "stdout",
     "output_type": "stream",
     "text": [
      "👋 Goodbye!\n"
     ]
    }
   ],
   "source": [
    "SmartWeatherBot()\n"
   ]
  },
  {
   "cell_type": "code",
   "execution_count": null,
   "id": "4efba5c9-74c3-45e7-aae5-3fea41f00a49",
   "metadata": {},
   "outputs": [],
   "source": []
  }
 ],
 "metadata": {
  "kernelspec": {
   "display_name": "Python 3 (ipykernel)",
   "language": "python",
   "name": "python3"
  },
  "language_info": {
   "codemirror_mode": {
    "name": "ipython",
    "version": 3
   },
   "file_extension": ".py",
   "mimetype": "text/x-python",
   "name": "python",
   "nbconvert_exporter": "python",
   "pygments_lexer": "ipython3",
   "version": "3.11.7"
  }
 },
 "nbformat": 4,
 "nbformat_minor": 5
}
